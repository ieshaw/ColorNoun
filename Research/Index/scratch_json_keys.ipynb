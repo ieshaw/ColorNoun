{
 "cells": [
  {
   "cell_type": "code",
   "execution_count": 8,
   "metadata": {
    "collapsed": false
   },
   "outputs": [],
   "source": [
    "def retreive_key(json_path, key_name, public= 'key', private= 'secret'):\n",
    "\n",
    "    '''\n",
    "    This is a helper function to import api keys from JSON's that hold dictionaries of the form\n",
    "    {key_name:{public: 'public_key', private: 'private_key'}}\n",
    "\n",
    "    param json_path: local path to json holding api keys\n",
    "    param key_name: name of desired key within json\n",
    "    param public: the dictionary key refering to the public api key\n",
    "    param private: the dictionary key refering to the private api key\n",
    "    '''\n",
    "\n",
    "    with open(json_path) as secrets_file:\n",
    "        secrets = json.load(secrets_file)\n",
    "        secrets_file.close()\n",
    "\n",
    "    return secrets[key_name][public], secrets[key_name][private]"
   ]
  },
  {
   "cell_type": "code",
   "execution_count": 10,
   "metadata": {
    "collapsed": true
   },
   "outputs": [],
   "source": [
    "local_path = '/Users/ianshaw/Downloads/GitHub/Tridens/Execution/exchange_keys.json'\n",
    "key_name = 'bittrex_ro'"
   ]
  },
  {
   "cell_type": "code",
   "execution_count": 11,
   "metadata": {
    "collapsed": false
   },
   "outputs": [
    {
     "data": {
      "text/plain": [
       "('4efc766671a542d48d675339cae63fd7', '8dad40d4896c4dc2be1fa25c1dc78123')"
      ]
     },
     "execution_count": 11,
     "metadata": {},
     "output_type": "execute_result"
    }
   ],
   "source": [
    "retreive_key(local_path, key_name)"
   ]
  },
  {
   "cell_type": "code",
   "execution_count": null,
   "metadata": {
    "collapsed": true
   },
   "outputs": [],
   "source": []
  },
  {
   "cell_type": "code",
   "execution_count": null,
   "metadata": {
    "collapsed": true
   },
   "outputs": [],
   "source": []
  },
  {
   "cell_type": "code",
   "execution_count": 2,
   "metadata": {
    "collapsed": false
   },
   "outputs": [
    {
     "ename": "ImportError",
     "evalue": "No module named 'api_helper'",
     "output_type": "error",
     "traceback": [
      "\u001b[0;31m---------------------------------------------------------------------------\u001b[0m",
      "\u001b[0;31mImportError\u001b[0m                               Traceback (most recent call last)",
      "\u001b[0;32m<ipython-input-2-ab871853a98a>\u001b[0m in \u001b[0;36m<module>\u001b[0;34m()\u001b[0m\n\u001b[0;32m----> 1\u001b[0;31m \u001b[0;32mimport\u001b[0m \u001b[0mapi_helper\u001b[0m\u001b[0;34m\u001b[0m\u001b[0m\n\u001b[0m",
      "\u001b[0;31mImportError\u001b[0m: No module named 'api_helper'"
     ]
    }
   ],
   "source": [
    "import api_helper"
   ]
  },
  {
   "cell_type": "markdown",
   "metadata": {
    "collapsed": true
   },
   "source": [
    "\n",
    "Write the package in a `new_package.py' file. Create a directory \n",
    "\n",
    "* Packages\n",
    "  * new_package\n",
    "    * setup.py\n",
    "    * __init__.py\n",
    "    * new_package\n",
    "      * __init__.py\n",
    "      * new_package.py"
   ]
  },
  {
   "cell_type": "code",
   "execution_count": null,
   "metadata": {
    "collapsed": true
   },
   "outputs": [],
   "source": []
  }
 ],
 "metadata": {
  "kernelspec": {
   "display_name": "Python 3",
   "language": "python",
   "name": "python3"
  },
  "language_info": {
   "codemirror_mode": {
    "name": "ipython",
    "version": 3
   },
   "file_extension": ".py",
   "mimetype": "text/x-python",
   "name": "python",
   "nbconvert_exporter": "python",
   "pygments_lexer": "ipython3",
   "version": "3.5.2"
  }
 },
 "nbformat": 4,
 "nbformat_minor": 1
}
