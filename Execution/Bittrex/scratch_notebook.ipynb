{
 "cells": [
  {
   "cell_type": "code",
   "execution_count": 2,
   "metadata": {
    "collapsed": true
   },
   "outputs": [],
   "source": [
    "__author__ = 'Ian'\n",
    "\n",
    "import pandas as pd\n",
    "import requests\n",
    "import os\n",
    "from statsmodels.tsa.api import VAR\n",
    "import time"
   ]
  },
  {
   "cell_type": "code",
   "execution_count": 3,
   "metadata": {
    "collapsed": false
   },
   "outputs": [],
   "source": [
    "import sys\n",
    "nb_dir = os.path.split(os.getcwd())[0]\n",
    "if nb_dir not in sys.path:\n",
    "    sys.path.append(nb_dir)\n",
    "from bittrex import Bittrex"
   ]
  },
  {
   "cell_type": "code",
   "execution_count": 4,
   "metadata": {
    "collapsed": false
   },
   "outputs": [],
   "source": [
    "api_key = 'eb49ce17b2ea4a34abd8f6b011513979'\n",
    "secret_key = '3829ff6a2e64423a8d7f928329980d13'\n",
    "\n",
    "bit1 = Bittrex(api_key=api_key, api_secret=secret_key, api_version='v1.1')"
   ]
  },
  {
   "cell_type": "code",
   "execution_count": null,
   "metadata": {
    "collapsed": false
   },
   "outputs": [
    {
     "name": "stdout",
     "output_type": "stream",
     "text": [
      "Selling 0.01157771 of BTC\n",
      "Selling 0.03422 of XMR\n"
     ]
    }
   ],
   "source": [
    "for coin in bit1.get_currencies()['result']:\n",
    "    ticker = coin['Currency']\n",
    "    if ticker == 'BTC':\n",
    "        continue\n",
    "    market = 'BTC-{}'.format(ticker)\n",
    "    try:\n",
    "        open_orders = bit1.get_open_orders(market=market)['result']\n",
    "\n",
    "        if open_orders:\n",
    "\n",
    "            for order in open_orders:\n",
    "\n",
    "                bit1.cancel(uuid=order['OrderUuid'])\n",
    "                \n",
    "        coin_avail = (bit1.get_balance(ticker))['result']['Available']\n",
    "\n",
    "        if coin_avail is None:\n",
    "            coin_avail = 0\n",
    "\n",
    "        # if weight is 0 and we have some\n",
    "\n",
    "        if coin_avail > 0:\n",
    "\n",
    "            # sell it all\n",
    "\n",
    "            print('Selling {} of {}'.format(coin_avail, ticker))\n",
    "\n",
    "            print(bit1.sell_limit(market=market, quantity=coin_avail, rate=last_rate))\n",
    "        \n",
    "    except:\n",
    "        continue"
   ]
  },
  {
   "cell_type": "code",
   "execution_count": null,
   "metadata": {
    "collapsed": true
   },
   "outputs": [],
   "source": []
  }
 ],
 "metadata": {
  "kernelspec": {
   "display_name": "Python 3",
   "language": "python",
   "name": "python3"
  },
  "language_info": {
   "codemirror_mode": {
    "name": "ipython",
    "version": 3
   },
   "file_extension": ".py",
   "mimetype": "text/x-python",
   "name": "python",
   "nbconvert_exporter": "python",
   "pygments_lexer": "ipython3",
   "version": "3.5.2"
  }
 },
 "nbformat": 4,
 "nbformat_minor": 0
}
